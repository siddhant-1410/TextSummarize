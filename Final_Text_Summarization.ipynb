{
  "nbformat": 4,
  "nbformat_minor": 0,
  "metadata": {
    "colab": {
      "provenance": []
    },
    "kernelspec": {
      "name": "python3",
      "display_name": "Python 3"
    },
    "language_info": {
      "name": "python"
    }
  },
  "cells": [
    {
      "cell_type": "markdown",
      "source": [
        "### **Approach 1: TF-IDF Method**"
      ],
      "metadata": {
        "id": "etC5N0LJHllJ"
      }
    },
    {
      "cell_type": "code",
      "source": [
        "from sklearn.feature_extraction.text import TfidfVectorizer\n",
        "from spacy.lang.en import English\n",
        "import numpy as np\n",
        "nlp = English()\n",
        "nlp.add_pipe('sentencizer')\n",
        "\n",
        "\n",
        "def summarizer(text, tokenizer, max_sent_in_summary=4):\n",
        "    # Create spacy document for further sentence level tokenization\n",
        "    doc = nlp(text_corpus.replace(\"\\n\", \"\"))\n",
        "    # Use 'text' attribute instead of 'string' to extract sentence text\n",
        "    sentences = [sent.text.strip() for sent in doc.sents]\n",
        "    # Let's create an organizer which will store the sentence ordering to later reorganize the\n",
        "    # scored sentences in their correct order\n",
        "    sentence_organizer = {k:v for v,k in enumerate(sentences)}\n",
        "    # Let's now create a tf-idf (Term frequnecy Inverse Document Frequency) model\n",
        "    tf_idf_vectorizer = TfidfVectorizer(min_df=2,  max_features=None,\n",
        "                                        strip_accents='unicode',\n",
        "                                        analyzer='word',\n",
        "                                        token_pattern=r'\\w{1,}',\n",
        "                                        ngram_range=(1, 3),\n",
        "                                        use_idf=1,smooth_idf=1,\n",
        "                                        sublinear_tf=1,\n",
        "                                        stop_words = 'english')\n",
        "    # Passing our sentences treating each as one document to TF-IDF vectorizer\n",
        "    tf_idf_vectorizer.fit(sentences)\n",
        "    # Transforming our sentences to TF-IDF vectors\n",
        "    sentence_vectors = tf_idf_vectorizer.transform(sentences)\n",
        "    # Getting sentence scores for each sentences\n",
        "    sentence_scores = np.array(sentence_vectors.sum(axis=1)).ravel()\n",
        "    # Getting top-n sentences\n",
        "    N = max_sent_in_summary\n",
        "    top_n_sentences = [sentences[ind] for ind in np.argsort(sentence_scores, axis=0)[::-1][:N]]\n",
        "    # Let's now do the sentence ordering using our prebaked sentence_organizer\n",
        "    # Let's map the scored sentences with their indexes\n",
        "    mapped_top_n_sentences = [(sentence,sentence_organizer[sentence]) for sentence in top_n_sentences]\n",
        "    # Ordering our top-n sentences in their original ordering\n",
        "    mapped_top_n_sentences = sorted(mapped_top_n_sentences, key = lambda x: x[1])\n",
        "    ordered_scored_sentences = [element[0] for element in mapped_top_n_sentences]\n",
        "    # Our final summary\n",
        "    summary = \" \".join(ordered_scored_sentences)\n",
        "    return summary"
      ],
      "metadata": {
        "id": "RgL2weDsHpzi"
      },
      "execution_count": 1,
      "outputs": []
    },
    {
      "cell_type": "code",
      "source": [
        "text_corpus = \"\"\"\n",
        "His debut was in place of Sachin Tendulkar and Virender Sehwag and he followed MS Dhoni as captain.\n",
        "\n",
        "Since then, he has been incomparable.\n",
        "\n",
        "Kohli made his ICC Men’s Cricket World Cup debut in 2011 as the second youngest member of India’s victorious squad at just 22 – though he had already made 45 ODI appearances by the start of the tournament, such was the regard with which he was held in.\n",
        "\n",
        "His India debut did not foreshadow what was to come, Kohli dismissed for just 12 against Sri Lanka, but it did not take him long to make an impact and he brought up a maiden half-century in his fourth game.\n",
        "\n",
        "A first hundred came over a year later but the Delhi native had to be patient and wait for the absence of some Indian greats to nail down a place in the side.\n",
        "\n",
        "Kohli came in for a rested Tendulkar during a tri-nation ODI tournament at the start of 2010, seizing his opportunity with another century.\n",
        "\n",
        "Away from the pitch, Kohli was something of a conundrum but for his captain at the time, Dhoni, the team liked Kohli just the way he was.\n",
        "\n",
        "He said: \"It's important for him to be himself. You have to show off what you are and he has matured now.\n",
        "\n",
        "“To us, he comes as a humble guy. He might come across differently to the world.\n",
        "\n",
        "\"Being a good human being is important, but it can come later, what's important now is that he [Kohli] scores on the field.”\n",
        "\n",
        "Kohli ended the year as India’s leading run-scorer in ODIs with an average of 47.38 and with it came a spot in the 2011 World Cup squad on home soil.\n",
        "\n",
        "He set the tone with a century in the tournament’s opening game before rebuilding with Gambhir in the final following the early departures of Sehwag and Tendulkar, making 35 to help India on the path to an historic triumph.\n",
        "\n",
        "From there, a Test debut came and emboldened by a brief stint as ODI captain in 2013, scoring a century in just his second match as skipper, Kohli began to break records.\n",
        "\n",
        "Against Australia, he hit the fastest ODI century by an Indian and fastest against the Aussies, reaching three figures from just 52 balls.\n",
        "\n",
        "A first century as Test captain followed in 2014, Australia again the opponents, while standing in for Dhoni before taking over the reins full-time mid-way through the series.\n",
        "\n",
        "Captaincy requires the shouldering of expectations, the weight of the nation rests with you and when the nation totals hundreds of millions of people, the weight could be unbearable.\n",
        "\n",
        "But for Kohli, it was a spark for some of the greatest years of his career.\n",
        "\n",
        "In 2016 and 2017, he scored a double century across four consecutive Test series, overtaking a record held by Don Bradman and Rahul Dravid.\n",
        "\n",
        "No one could keep up with Kohli. He was awarded the Sir Garfield Sobers Trophy for ICC Men’s Cricketer of the Year in 2017, repeating the feat the next year.\n",
        "\n",
        "His trophy cabinet was further filled in 2018, with ICC Men's Test Player of the Year and ICC Men's ODI Player of the Year gongs, also being named one of Time's 100 Most Influential People.\n",
        "\"\"\"\n",
        "print(\"Summarizer Result: \\n\", summarizer(text=text_corpus, tokenizer=nlp, max_sent_in_summary=3))\n"
      ],
      "metadata": {
        "colab": {
          "base_uri": "https://localhost:8080/"
        },
        "id": "nqMmertNHs4M",
        "outputId": "86aa723d-259f-4e3c-a295-9849c63328e0"
      },
      "execution_count": 2,
      "outputs": [
        {
          "output_type": "stream",
          "name": "stdout",
          "text": [
            "Summarizer Result: \n",
            " Kohli made his ICC Men’s Cricket World Cup debut in 2011 as the second youngest member of India’s victorious squad at just 22 – though he had already made 45 ODI appearances by the start of the tournament, such was the regard with which he was held in. ”Kohli ended the year as India’s leading run-scorer in ODIs with an average of 47.38 and with it came a spot in the 2011 World Cup squad on home soil. His trophy cabinet was further filled in 2018, with ICC Men's Test Player of the Year and ICC Men's ODI Player of the Year gongs, also being named one of Time's 100 Most Influential People.\n"
          ]
        },
        {
          "output_type": "stream",
          "name": "stderr",
          "text": [
            "/usr/local/lib/python3.10/dist-packages/sklearn/utils/_param_validation.py:558: FutureWarning: Passing an int for a boolean parameter is deprecated in version 1.2 and won't be supported anymore in version 1.4.\n",
            "  warnings.warn(\n"
          ]
        }
      ]
    },
    {
      "cell_type": "markdown",
      "source": [
        "### **Approach 2 : LSA Method**"
      ],
      "metadata": {
        "id": "V5_sWjIVICO0"
      }
    },
    {
      "cell_type": "code",
      "source": [
        "from sklearn.decomposition import TruncatedSVD\n",
        "\n",
        "def summarizer_lsa(text, tokenizer, max_sent_in_summary=4):\n",
        "    # Create spacy document for further sentence level tokenization\n",
        "    doc = nlp(text.replace(\"\\n\", \"\"))\n",
        "    sentences = [sent.text.strip() for sent in doc.sents]\n",
        "    sentence_organizer = {k: v for v, k in enumerate(sentences)}\n",
        "\n",
        "    tf_idf_vectorizer = TfidfVectorizer(min_df=2,  max_features=None,\n",
        "                                        strip_accents='unicode',\n",
        "                                        analyzer='word',\n",
        "                                        token_pattern=r'\\w{1,}',\n",
        "                                        ngram_range=(1, 3),\n",
        "                                        stop_words = 'english')\n",
        "    tf_idf_matrix = tf_idf_vectorizer.fit_transform(sentences)\n",
        "\n",
        "    lsa_model = TruncatedSVD(n_components=1, random_state=42)\n",
        "    lsa_matrix = lsa_model.fit_transform(tf_idf_matrix)\n",
        "\n",
        "    sentence_scores = np.array(lsa_matrix).ravel()\n",
        "\n",
        "    N = max_sent_in_summary\n",
        "    top_n_sentences = [sentences[ind] for ind in np.argsort(sentence_scores, axis=0)[::-1][:N]]\n",
        "\n",
        "    mapped_top_n_sentences = [(sentence, sentence_organizer[sentence]) for sentence in top_n_sentences]\n",
        "    mapped_top_n_sentences = sorted(mapped_top_n_sentences, key=lambda x: x[1])\n",
        "    ordered_scored_sentences = [element[0] for element in mapped_top_n_sentences]\n",
        "\n",
        "    summary = \" \".join(ordered_scored_sentences)\n",
        "    return summary\n"
      ],
      "metadata": {
        "id": "vWjfeQWKH8kw"
      },
      "execution_count": 3,
      "outputs": []
    },
    {
      "cell_type": "code",
      "source": [
        "text_corpus = \"\"\"\n",
        "His debut was in place of Sachin Tendulkar and Virender Sehwag and he followed MS Dhoni as captain.\n",
        "\n",
        "Since then, he has been incomparable.\n",
        "\n",
        "Kohli made his ICC Men’s Cricket World Cup debut in 2011 as the second youngest member of India’s victorious squad at just 22 – though he had already made 45 ODI appearances by the start of the tournament, such was the regard with which he was held in.\n",
        "\n",
        "His India debut did not foreshadow what was to come, Kohli dismissed for just 12 against Sri Lanka, but it did not take him long to make an impact and he brought up a maiden half-century in his fourth game.\n",
        "\n",
        "A first hundred came over a year later but the Delhi native had to be patient and wait for the absence of some Indian greats to nail down a place in the side.\n",
        "\n",
        "Kohli came in for a rested Tendulkar during a tri-nation ODI tournament at the start of 2010, seizing his opportunity with another century.\n",
        "\n",
        "Away from the pitch, Kohli was something of a conundrum but for his captain at the time, Dhoni, the team liked Kohli just the way he was.\n",
        "\n",
        "He said: \"It's important for him to be himself. You have to show off what you are and he has matured now.\n",
        "\n",
        "“To us, he comes as a humble guy. He might come across differently to the world.\n",
        "\n",
        "\"Being a good human being is important, but it can come later, what's important now is that he [Kohli] scores on the field.”\n",
        "\n",
        "Kohli ended the year as India’s leading run-scorer in ODIs with an average of 47.38 and with it came a spot in the 2011 World Cup squad on home soil.\n",
        "\n",
        "He set the tone with a century in the tournament’s opening game before rebuilding with Gambhir in the final following the early departures of Sehwag and Tendulkar, making 35 to help India on the path to an historic triumph.\n",
        "\n",
        "From there, a Test debut came and emboldened by a brief stint as ODI captain in 2013, scoring a century in just his second match as skipper, Kohli began to break records.\n",
        "\n",
        "Against Australia, he hit the fastest ODI century by an Indian and fastest against the Aussies, reaching three figures from just 52 balls.\n",
        "\n",
        "A first century as Test captain followed in 2014, Australia again the opponents, while standing in for Dhoni before taking over the reins full-time mid-way through the series.\n",
        "\n",
        "Captaincy requires the shouldering of expectations, the weight of the nation rests with you and when the nation totals hundreds of millions of people, the weight could be unbearable.\n",
        "\n",
        "But for Kohli, it was a spark for some of the greatest years of his career.\n",
        "\n",
        "In 2016 and 2017, he scored a double century across four consecutive Test series, overtaking a record held by Don Bradman and Rahul Dravid.\n",
        "\n",
        "No one could keep up with Kohli. He was awarded the Sir Garfield Sobers Trophy for ICC Men’s Cricketer of the Year in 2017, repeating the feat the next year.\n",
        "\n",
        "His trophy cabinet was further filled in 2018, with ICC Men's Test Player of the Year and ICC Men's ODI Player of the Year gongs, also being named one of Time's 100 Most Influential People.\n",
        "\"\"\"\n",
        "print(\"Summarizer Result: \\n\", summarizer_lsa(text=text_corpus, tokenizer=nlp, max_sent_in_summary=3))\n"
      ],
      "metadata": {
        "colab": {
          "base_uri": "https://localhost:8080/"
        },
        "id": "QuCyARpaIKeN",
        "outputId": "ed243da5-eb28-4b75-c488-f614fc16c2c2"
      },
      "execution_count": 4,
      "outputs": [
        {
          "output_type": "stream",
          "name": "stdout",
          "text": [
            "Summarizer Result: \n",
            " From there, a Test debut came and emboldened by a brief stint as ODI captain in 2013, scoring a century in just his second match as skipper, Kohli began to break records. But for Kohli, it was a spark for some of the greatest years of his career. No one could keep up with Kohli.\n"
          ]
        }
      ]
    },
    {
      "cell_type": "markdown",
      "source": [
        "### **Approach 3 : Frequency Count Method**"
      ],
      "metadata": {
        "id": "RQOGKo-aIStV"
      }
    },
    {
      "cell_type": "code",
      "source": [
        "from collections import Counter\n",
        "\n",
        "def summarizer_frequency(text, tokenizer, max_sent_in_summary=4):\n",
        "    doc = nlp(text.replace(\"\\n\", \"\"))\n",
        "    sentences = [sent.text.strip() for sent in doc.sents]\n",
        "    sentence_organizer = {k: v for v, k in enumerate(sentences)}\n",
        "\n",
        "    # Tokenize words and filter stopwords\n",
        "    words = [token.text for token in doc if not token.is_stop and not token.is_punct]\n",
        "    word_frequencies = Counter(words)\n",
        "    max_frequency = max(word_frequencies.values())\n",
        "    word_frequencies = {word: freq / max_frequency for word, freq in word_frequencies.items()}\n",
        "\n",
        "    # Score sentences based on word frequencies\n",
        "    sentence_scores = []\n",
        "    for sentence in sentences:\n",
        "        score = 0\n",
        "        for word in sentence.split():\n",
        "            if word in word_frequencies:\n",
        "                score += word_frequencies[word]\n",
        "        sentence_scores.append(score)\n",
        "\n",
        "    N = max_sent_in_summary\n",
        "    top_n_sentences = [sentences[ind] for ind in np.argsort(sentence_scores)[::-1][:N]]\n",
        "\n",
        "    mapped_top_n_sentences = [(sentence, sentence_organizer[sentence]) for sentence in top_n_sentences]\n",
        "    mapped_top_n_sentences = sorted(mapped_top_n_sentences, key=lambda x: x[1])\n",
        "    ordered_scored_sentences = [element[0] for element in mapped_top_n_sentences]\n",
        "\n",
        "    summary = \" \".join(ordered_scored_sentences)\n",
        "    return summary\n"
      ],
      "metadata": {
        "id": "JdKSF815IOEo"
      },
      "execution_count": 5,
      "outputs": []
    },
    {
      "cell_type": "code",
      "source": [
        "text_corpus = \"\"\"\n",
        "His debut was in place of Sachin Tendulkar and Virender Sehwag and he followed MS Dhoni as captain.\n",
        "\n",
        "Since then, he has been incomparable.\n",
        "\n",
        "Kohli made his ICC Men’s Cricket World Cup debut in 2011 as the second youngest member of India’s victorious squad at just 22 – though he had already made 45 ODI appearances by the start of the tournament, such was the regard with which he was held in.\n",
        "\n",
        "His India debut did not foreshadow what was to come, Kohli dismissed for just 12 against Sri Lanka, but it did not take him long to make an impact and he brought up a maiden half-century in his fourth game.\n",
        "\n",
        "A first hundred came over a year later but the Delhi native had to be patient and wait for the absence of some Indian greats to nail down a place in the side.\n",
        "\n",
        "Kohli came in for a rested Tendulkar during a tri-nation ODI tournament at the start of 2010, seizing his opportunity with another century.\n",
        "\n",
        "Away from the pitch, Kohli was something of a conundrum but for his captain at the time, Dhoni, the team liked Kohli just the way he was.\n",
        "\n",
        "He said: \"It's important for him to be himself. You have to show off what you are and he has matured now.\n",
        "\n",
        "“To us, he comes as a humble guy. He might come across differently to the world.\n",
        "\n",
        "\"Being a good human being is important, but it can come later, what's important now is that he [Kohli] scores on the field.”\n",
        "\n",
        "Kohli ended the year as India’s leading run-scorer in ODIs with an average of 47.38 and with it came a spot in the 2011 World Cup squad on home soil.\n",
        "\n",
        "He set the tone with a century in the tournament’s opening game before rebuilding with Gambhir in the final following the early departures of Sehwag and Tendulkar, making 35 to help India on the path to an historic triumph.\n",
        "\n",
        "From there, a Test debut came and emboldened by a brief stint as ODI captain in 2013, scoring a century in just his second match as skipper, Kohli began to break records.\n",
        "\n",
        "Against Australia, he hit the fastest ODI century by an Indian and fastest against the Aussies, reaching three figures from just 52 balls.\n",
        "\n",
        "A first century as Test captain followed in 2014, Australia again the opponents, while standing in for Dhoni before taking over the reins full-time mid-way through the series.\n",
        "\n",
        "Captaincy requires the shouldering of expectations, the weight of the nation rests with you and when the nation totals hundreds of millions of people, the weight could be unbearable.\n",
        "\n",
        "But for Kohli, it was a spark for some of the greatest years of his career.\n",
        "\n",
        "In 2016 and 2017, he scored a double century across four consecutive Test series, overtaking a record held by Don Bradman and Rahul Dravid.\n",
        "\n",
        "No one could keep up with Kohli. He was awarded the Sir Garfield Sobers Trophy for ICC Men’s Cricketer of the Year in 2017, repeating the feat the next year.\n",
        "\n",
        "His trophy cabinet was further filled in 2018, with ICC Men's Test Player of the Year and ICC Men's ODI Player of the Year gongs, also being named one of Time's 100 Most Influential People.\n",
        "\"\"\"\n",
        "print(\"Summarizer Result: \\n\", summarizer_frequency(text=text_corpus, tokenizer=nlp, max_sent_in_summary=3))\n"
      ],
      "metadata": {
        "colab": {
          "base_uri": "https://localhost:8080/"
        },
        "id": "Y2ugvarCIebW",
        "outputId": "7bd21988-97a9-4bf9-dc4e-11d7a795c8d1"
      },
      "execution_count": 6,
      "outputs": [
        {
          "output_type": "stream",
          "name": "stdout",
          "text": [
            "Summarizer Result: \n",
            " Kohli made his ICC Men’s Cricket World Cup debut in 2011 as the second youngest member of India’s victorious squad at just 22 – though he had already made 45 ODI appearances by the start of the tournament, such was the regard with which he was held in. From there, a Test debut came and emboldened by a brief stint as ODI captain in 2013, scoring a century in just his second match as skipper, Kohli began to break records. His trophy cabinet was further filled in 2018, with ICC Men's Test Player of the Year and ICC Men's ODI Player of the Year gongs, also being named one of Time's 100 Most Influential People.\n"
          ]
        }
      ]
    },
    {
      "cell_type": "code",
      "source": [],
      "metadata": {
        "id": "rPcdxwQYIg-6"
      },
      "execution_count": null,
      "outputs": []
    }
  ]
}